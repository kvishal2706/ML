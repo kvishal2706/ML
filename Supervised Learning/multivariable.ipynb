{
 "cells": [
  {
   "cell_type": "code",
   "execution_count": 1,
   "metadata": {},
   "outputs": [],
   "source": [
    "import numpy as np\n",
    "import matplotlib.pyplot as plt\n",
    "import math"
   ]
  },
  {
   "cell_type": "code",
   "execution_count": 2,
   "metadata": {},
   "outputs": [
    {
     "name": "stdout",
     "output_type": "stream",
     "text": [
      "x_train : [[2104    5    1   45]\n",
      " [1416    3    2   40]\n",
      " [ 852    2    1   35]] x_train_shape: (3, 4) m: 3\n"
     ]
    }
   ],
   "source": [
    "X_train = np.array([[2104, 5, 1, 45], [1416, 3, 2, 40], [852, 2, 1, 35]])\n",
    "y_train = np.array([460, 232, 178])\n",
    "X_features = ['size(sqft)','bedrooms','floors','age']\n",
    "\n",
    "m=X_train.shape[0]\n",
    "print(f\"x_train : {X_train} x_train_shape: {X_train.shape} m: {m}\")\n"
   ]
  },
  {
   "cell_type": "code",
   "execution_count": 3,
   "metadata": {},
   "outputs": [],
   "source": [
    "def z_normalization(X):\n",
    "    mu=np.mean(X)\n",
    "    sd=np.std(X)\n",
    "    X_norm=(X-mu)/sd\n",
    "\n",
    "    return X_norm"
   ]
  },
  {
   "cell_type": "code",
   "execution_count": 4,
   "metadata": {},
   "outputs": [
    {
     "name": "stdout",
     "output_type": "stream",
     "text": [
      "Standard Data: [[ 2.55999942 -0.54872999 -0.5546542  -0.48948788]\n",
      " [ 1.54103523 -0.55169209 -0.55317315 -0.49689315]\n",
      " [ 0.70572156 -0.55317315 -0.5546542  -0.50429841]] without : [[2104    5    1   45]\n",
      " [1416    3    2   40]\n",
      " [ 852    2    1   35]]\n"
     ]
    }
   ],
   "source": [
    "X_norm=z_normalization(X_train)\n",
    "print(f\"Standard Data: {X_norm} without : {X_train}\")\n",
    "\n",
    "# X = np.c_[X_norm, X_norm**2, X_norm**3]\n",
    "# print(X)\n",
    "\n",
    "# Y=1+X**2"
   ]
  },
  {
   "cell_type": "code",
   "execution_count": 5,
   "metadata": {},
   "outputs": [],
   "source": [
    "def predict(X,w,b):\n",
    "    f_wb=np.dot(X,w)+b\n",
    "\n",
    "    return f_wb"
   ]
  },
  {
   "cell_type": "code",
   "execution_count": 6,
   "metadata": {},
   "outputs": [],
   "source": [
    "def compute_cost(X,y,w,b):\n",
    "    total_cost=0\n",
    "    m=X.shape[0]\n",
    "    for i in range(m):\n",
    "        cost=(predict(X[i],w,b)-y[i])**2\n",
    "        total_cost+=cost\n",
    "    \n",
    "    return total_cost/(2*m)"
   ]
  },
  {
   "cell_type": "code",
   "execution_count": 7,
   "metadata": {},
   "outputs": [],
   "source": [
    "def compute_gradient(X,y,w,b):\n",
    "    m,n=X.shape\n",
    "    dj_dw=np.zeros(n)\n",
    "    dj_db=0\n",
    "    for i in range(m):\n",
    "        err=(predict(X[i],w,b)-y[i])\n",
    "        for j in range(n):\n",
    "            dj_dw[j]+= err * X[i,j]\n",
    "        dj_db+= err\n",
    "\n",
    "    dj_dw= dj_dw/m\n",
    "    dj_db= dj_db/m\n",
    "\n",
    "    return dj_dw,dj_db"
   ]
  },
  {
   "cell_type": "code",
   "execution_count": 8,
   "metadata": {},
   "outputs": [],
   "source": [
    "def gradient_descent(X,y,w,b,iteration,alpha):\n",
    "    j_hist=[]\n",
    "    for i in range(iteration):\n",
    "        dj_dw,dj_db=compute_gradient(X,y,w,b)\n",
    "\n",
    "        w=w-alpha*dj_dw\n",
    "        b=b-alpha*dj_db\n",
    "\n",
    "        if i<400:\n",
    "            j_hist.append(compute_cost(X,y,w,b))\n",
    "\n",
    "    return w,b,j_hist\n",
    "\n"
   ]
  },
  {
   "cell_type": "code",
   "execution_count": 9,
   "metadata": {},
   "outputs": [
    {
     "name": "stdout",
     "output_type": "stream",
     "text": [
      "w_init shape: (4,), b_init type: <class 'int'> m: 3\n"
     ]
    }
   ],
   "source": [
    "b_init = 0\n",
    "w_init = np.zeros(4)\n",
    "print(f\"w_init shape: {w_init.shape}, b_init type: {type(b_init)} m: {m}\")"
   ]
  },
  {
   "cell_type": "code",
   "execution_count": 10,
   "metadata": {},
   "outputs": [
    {
     "name": "stdout",
     "output_type": "stream",
     "text": [
      "prediction: 437.8132874226631 actual value: 460\n",
      "prediction: 280.64666729768555 actual value: 232\n",
      "prediction: 151.8453547005123 actual value: 178\n"
     ]
    }
   ],
   "source": [
    "alpha=alpha = 8.0e-2\n",
    "iterations=250\n",
    "w_final,b_final,j_hist=gradient_descent(X_norm,y_train,w_init,b_init,iterations,alpha)\n",
    "\n",
    "\n",
    "for i in range(m):\n",
    "    print(f\"prediction: {predict(X_norm[i], w_final, b_final)} actual value: {y_train[i]}\")"
   ]
  },
  {
   "cell_type": "code",
   "execution_count": 11,
   "metadata": {},
   "outputs": [
    {
     "data": {
      "image/png": "[encoded data removed]",
      "text/plain": [
       "<Figure size 864x288 with 1 Axes>"
      ]
     },
     "metadata": {
      "needs_background": "light"
     },
     "output_type": "display_data"
    }
   ],
   "source": [
    "fig, (ax2) = plt.subplots(1, 1, constrained_layout=True, figsize=(12, 4))\n",
    "ax2.plot(100 + np.arange(len(j_hist[100:])), j_hist[100:])\n",
    "ax2.set_title(\"Cost vs. iteration (tail)\")\n",
    "ax2.set_ylabel('Cost') \n",
    "ax2.set_xlabel('iteration step') \n",
    "plt.show()"
   ]
  },
  {
   "cell_type": "code",
   "execution_count": null,
   "metadata": {},
   "outputs": [],
   "source": []
  }
 ],
 "metadata": {
  "kernelspec": {
   "display_name": "base",
   "language": "python",
   "name": "python3"
  },
  "language_info": {
   "codemirror_mode": {
    "name": "ipython",
    "version": 3
   },
   "file_extension": ".py",
   "mimetype": "text/x-python",
   "name": "python",
   "nbconvert_exporter": "python",
   "pygments_lexer": "ipython3",
   "version": "3.9.7"
  },
  "orig_nbformat": 4
 },
 "nbformat": 4,
 "nbformat_minor": 2
}
